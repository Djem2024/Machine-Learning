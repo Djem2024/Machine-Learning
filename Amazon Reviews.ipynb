{
 "cells": [
  {
   "cell_type": "code",
   "execution_count": 1,
   "metadata": {
    "_cell_guid": "b1076dfc-b9ad-4769-8c92-a6c4dae69d19",
    "_uuid": "8f2839f25d086af736a60e9eeb907d3b93b6e0e5",
    "execution": {
     "iopub.execute_input": "2025-04-27T09:50:30.659142Z",
     "iopub.status.busy": "2025-04-27T09:50:30.658837Z",
     "iopub.status.idle": "2025-04-27T09:50:34.742480Z",
     "shell.execute_reply": "2025-04-27T09:50:34.741581Z",
     "shell.execute_reply.started": "2025-04-27T09:50:30.659118Z"
    },
    "trusted": true
   },
   "outputs": [
    {
     "ename": "ModuleNotFoundError",
     "evalue": "No module named 'plotly'",
     "output_type": "error",
     "traceback": [
      "\u001b[31m---------------------------------------------------------------------------\u001b[39m",
      "\u001b[31mModuleNotFoundError\u001b[39m                       Traceback (most recent call last)",
      "\u001b[36mCell\u001b[39m\u001b[36m \u001b[39m\u001b[32mIn[1]\u001b[39m\u001b[32m, line 16\u001b[39m\n\u001b[32m     14\u001b[39m \u001b[38;5;28;01mimport\u001b[39;00m\u001b[38;5;250m \u001b[39m\u001b[34;01mmatplotlib\u001b[39;00m\u001b[34;01m.\u001b[39;00m\u001b[34;01mpyplot\u001b[39;00m\u001b[38;5;250m \u001b[39m\u001b[38;5;28;01mas\u001b[39;00m\u001b[38;5;250m \u001b[39m\u001b[34;01mplt\u001b[39;00m\n\u001b[32m     15\u001b[39m \u001b[38;5;28;01mimport\u001b[39;00m\u001b[38;5;250m \u001b[39m\u001b[34;01mseaborn\u001b[39;00m\u001b[38;5;250m \u001b[39m\u001b[38;5;28;01mas\u001b[39;00m\u001b[38;5;250m \u001b[39m\u001b[34;01msns\u001b[39;00m\n\u001b[32m---> \u001b[39m\u001b[32m16\u001b[39m \u001b[38;5;28;01mimport\u001b[39;00m\u001b[38;5;250m \u001b[39m\u001b[34;01mplotly\u001b[39;00m\u001b[34;01m.\u001b[39;00m\u001b[34;01mgraph_objs\u001b[39;00m\u001b[38;5;250m \u001b[39m\u001b[38;5;28;01mas\u001b[39;00m\u001b[38;5;250m \u001b[39m\u001b[34;01mgo\u001b[39;00m\n\u001b[32m     17\u001b[39m \u001b[38;5;28;01mimport\u001b[39;00m\u001b[38;5;250m \u001b[39m\u001b[34;01mplotly\u001b[39;00m\u001b[34;01m.\u001b[39;00m\u001b[34;01mexpress\u001b[39;00m\u001b[38;5;250m \u001b[39m\u001b[38;5;28;01mas\u001b[39;00m\u001b[38;5;250m \u001b[39m\u001b[34;01mpx\u001b[39;00m\n\u001b[32m     18\u001b[39m \u001b[38;5;28;01mfrom\u001b[39;00m\u001b[38;5;250m \u001b[39m\u001b[34;01mplotly\u001b[39;00m\u001b[34;01m.\u001b[39;00m\u001b[34;01moffline\u001b[39;00m\u001b[38;5;250m \u001b[39m\u001b[38;5;28;01mimport\u001b[39;00m iplot\n",
      "\u001b[31mModuleNotFoundError\u001b[39m: No module named 'plotly'"
     ]
    }
   ],
   "source": [
    "# This Python 3 environment comes with many helpful analytics libraries installed\n",
    "# It is defined by the kaggle/python Docker image: https://github.com/kaggle/docker-python\n",
    "# For example, here's several helpful packages to load\n",
    "\n",
    "import numpy as np # linear algebra\n",
    "import pandas as pd # data processing, CSV file I/O (e.g. pd.read_csv)\n",
    "\n",
    "# Input data files are available in the read-only \"../input/\" directory\n",
    "# For example, running this (by clicking run or pressing Shift+Enter) will list all files under the input directory\n",
    "\n",
    "\n",
    "import numpy as np # linear algebra\n",
    "import pandas as pd # data processing, CSV file I/O (e.g. pd.read_csv)\n",
    "import matplotlib.pyplot as plt\n",
    "import seaborn as sns\n",
    "import plotly.graph_objs as go\n",
    "import plotly.express as px\n",
    "from plotly.offline import iplot\n",
    "import plotly.figure_factory as ff\n",
    "\n",
    "from sklearn.model_selection import GridSearchCV\n",
    "from sklearn.neighbors import KNeighborsClassifier\n",
    "from sklearn.tree import DecisionTreeClassifier\n",
    "from sklearn.neural_network import MLPClassifier\n",
    "from sklearn.metrics import accuracy_score, classification_report\n",
    "\n",
    "from sklearn.model_selection import StratifiedShuffleSplit\n",
    "from sklearn.preprocessing import OrdinalEncoder\n",
    "from sklearn.metrics import accuracy_score,confusion_matrix\n",
    "\n",
    "\n",
    "import os\n",
    "for dirname, _, filenames in os.walk('/kaggle/input'):\n",
    "    for filename in filenames:\n",
    "        print(os.path.join(dirname, filename))\n",
    "\n",
    "# You can write up to 20GB to the current directory (/kaggle/working/) that gets preserved as output when you create a version using \"Save & Run All\" \n",
    "# You can also write temporary files to /kaggle/temp/, but they won't be saved outside of the current session"
   ]
  },
  {
   "cell_type": "code",
   "execution_count": null,
   "metadata": {
    "execution": {
     "iopub.execute_input": "2025-04-27T09:50:37.459783Z",
     "iopub.status.busy": "2025-04-27T09:50:37.459455Z",
     "iopub.status.idle": "2025-04-27T09:50:37.464509Z",
     "shell.execute_reply": "2025-04-27T09:50:37.463594Z",
     "shell.execute_reply.started": "2025-04-27T09:50:37.459757Z"
    },
    "trusted": true
   },
   "outputs": [],
   "source": [
    "## Set random seed for reproducibility\n",
    "def set_seed(seed=423):\n",
    "    np.random.seed(seed)\n",
    "    os.environ['PYTHONHASHSEED'] = str(seed)\n",
    "\n",
    "set_seed()"
   ]
  },
  {
   "cell_type": "markdown",
   "metadata": {},
   "source": [
    "**Data Ingestion**"
   ]
  },
  {
   "cell_type": "code",
   "execution_count": null,
   "metadata": {
    "execution": {
     "iopub.execute_input": "2025-04-27T09:50:46.987888Z",
     "iopub.status.busy": "2025-04-27T09:50:46.987248Z",
     "iopub.status.idle": "2025-04-27T09:50:46.992492Z",
     "shell.execute_reply": "2025-04-27T09:50:46.991354Z",
     "shell.execute_reply.started": "2025-04-27T09:50:46.987861Z"
    },
    "trusted": true
   },
   "outputs": [],
   "source": [
    "# 2.1 Define file paths\n",
    "train_path = '/kaggle/input/reviews-2025/amazon_review_ID.shuf.lrn.csv'\n",
    "test_path  = '/kaggle/input/reviews-2025/amazon_review_ID.shuf.tes.csv'\n",
    "val_path = '/kaggle/input/reviews-2025/amazon_review_ID.shuf.sol.ex.csv'"
   ]
  },
  {
   "cell_type": "code",
   "execution_count": null,
   "metadata": {
    "execution": {
     "iopub.execute_input": "2025-04-27T09:50:48.662927Z",
     "iopub.status.busy": "2025-04-27T09:50:48.662333Z",
     "iopub.status.idle": "2025-04-27T09:50:53.213879Z",
     "shell.execute_reply": "2025-04-27T09:50:53.213090Z",
     "shell.execute_reply.started": "2025-04-27T09:50:48.662900Z"
    },
    "trusted": true
   },
   "outputs": [],
   "source": [
    "# 2.2 Load with pandas\n",
    "train_df = pd.read_csv(train_path)\n",
    "test_df  = pd.read_csv(test_path)\n",
    "final_test_df = pd.read_csv(test_path)\n",
    "display(train_df.head())\n",
    "print(train_df.info())\n",
    "print(\"Test set shape:\", test_df.shape)"
   ]
  },
  {
   "cell_type": "code",
   "execution_count": null,
   "metadata": {
    "execution": {
     "iopub.execute_input": "2025-04-27T09:52:43.116666Z",
     "iopub.status.busy": "2025-04-27T09:52:43.116274Z",
     "iopub.status.idle": "2025-04-27T09:52:43.122974Z",
     "shell.execute_reply": "2025-04-27T09:52:43.121657Z",
     "shell.execute_reply.started": "2025-04-27T09:52:43.116637Z"
    },
    "trusted": true
   },
   "outputs": [],
   "source": [
    "classes = train_df[\"Class\"].unique()\n",
    "print(len(classes))"
   ]
  },
  {
   "cell_type": "markdown",
   "metadata": {},
   "source": [
    "**Exploratory Data Analysis (EDA)**"
   ]
  },
  {
   "cell_type": "code",
   "execution_count": null,
   "metadata": {
    "execution": {
     "iopub.execute_input": "2025-04-27T09:59:38.896644Z",
     "iopub.status.busy": "2025-04-27T09:59:38.896339Z",
     "iopub.status.idle": "2025-04-27T09:59:39.026884Z",
     "shell.execute_reply": "2025-04-27T09:59:39.025897Z",
     "shell.execute_reply.started": "2025-04-27T09:59:38.896623Z"
    },
    "trusted": true
   },
   "outputs": [],
   "source": [
    "import pandas as pd\n",
    "\n",
    "class EDAOverview:\n",
    "    \"\"\"\n",
    "    Prints total counts of 'y', 'n', '?', and missing values\n",
    "    across all feature columns (drops target column if present).\n",
    "    \"\"\"\n",
    "    def __init__(self, train_df: pd.DataFrame, target_col: str = 'Class'):\n",
    "        # Drop the target column if present\n",
    "        self.df = train_df.drop(columns=[target_col], errors='ignore')\n",
    "        self._print_summary()\n",
    "\n",
    "    def _print_summary(self):\n",
    "        flat = self.df.values.flatten()\n",
    "        total_cells = flat.size\n",
    "        count_y = (flat == 'y').sum()\n",
    "        count_n = (flat == 'n').sum()\n",
    "        count_q = (flat == '?').sum()\n",
    "        count_missing = pd.isnull(flat).sum()\n",
    "\n",
    "        print(\"=== EDA Summary ===\")\n",
    "        print(f\"Total cells       : {total_cells:,}\")\n",
    "        print(f\"Count 'y'         : {count_y:,} ({count_y/total_cells:.1%})\")\n",
    "        print(f\"Count 'n'         : {count_n:,} ({count_n/total_cells:.1%})\")\n",
    "        print(f\"Count '?'         : {count_q:,} ({count_q/total_cells:.1%})\")\n",
    "        print(f\"Missing values    : {count_missing:,} ({count_missing/total_cells:.1%})\")\n",
    "        print(\"====================\")\n",
    "\n",
    "\n",
    "overview = EDAOverview(train_df, target_col='Class')\n"
   ]
  },
  {
   "cell_type": "code",
   "execution_count": null,
   "metadata": {
    "execution": {
     "iopub.execute_input": "2025-04-27T10:07:10.683881Z",
     "iopub.status.busy": "2025-04-27T10:07:10.683550Z",
     "iopub.status.idle": "2025-04-27T10:07:10.710445Z",
     "shell.execute_reply": "2025-04-27T10:07:10.709417Z",
     "shell.execute_reply.started": "2025-04-27T10:07:10.683855Z"
    },
    "trusted": true
   },
   "outputs": [],
   "source": [
    "x = train_df['Class'].value_counts()\n",
    "labels = train_df['Class'].unique().tolist()\n",
    "print(len(labels))\n",
    "className = go.Pie(labels=labels,values=x,hoverinfo='label+percent',textinfo='value')\n",
    "iplot([className]) "
   ]
  },
  {
   "cell_type": "markdown",
   "metadata": {},
   "source": [
    "**DATA SPLIT**"
   ]
  },
  {
   "cell_type": "code",
   "execution_count": null,
   "metadata": {
    "execution": {
     "iopub.execute_input": "2025-04-27T10:07:12.904007Z",
     "iopub.status.busy": "2025-04-27T10:07:12.903174Z",
     "iopub.status.idle": "2025-04-27T10:07:12.961794Z",
     "shell.execute_reply": "2025-04-27T10:07:12.961054Z",
     "shell.execute_reply.started": "2025-04-27T10:07:12.903961Z"
    },
    "trusted": true
   },
   "outputs": [],
   "source": [
    "split = StratifiedShuffleSplit(n_splits=1,test_size=0.2,random_state=42)\n",
    "for train_index,test_index in split.split(train_df,train_df['Class']):\n",
    "    strat_train_set = train_df.loc[train_index]\n",
    "    strat_test_set = train_df.loc[test_index]\n",
    "strat_test_set['Class'].value_counts() / len(strat_test_set) "
   ]
  },
  {
   "cell_type": "markdown",
   "metadata": {},
   "source": [
    "**TRAINING**"
   ]
  },
  {
   "cell_type": "code",
   "execution_count": null,
   "metadata": {
    "execution": {
     "iopub.execute_input": "2025-04-27T10:07:15.878256Z",
     "iopub.status.busy": "2025-04-27T10:07:15.877985Z",
     "iopub.status.idle": "2025-04-27T10:07:15.914947Z",
     "shell.execute_reply": "2025-04-27T10:07:15.914223Z",
     "shell.execute_reply.started": "2025-04-27T10:07:15.878238Z"
    },
    "trusted": true
   },
   "outputs": [],
   "source": [
    "reviews = strat_train_set.drop('Class',axis=1)\n",
    "reviews_labels = strat_train_set['Class'].copy()\n",
    "\n",
    "reviews_test = strat_test_set.drop('Class',axis=1)\n",
    "reviews_test_labels = strat_test_set['Class'].copy()"
   ]
  },
  {
   "cell_type": "code",
   "execution_count": null,
   "metadata": {
    "execution": {
     "iopub.execute_input": "2025-04-24T15:04:48.218353Z",
     "iopub.status.busy": "2025-04-24T15:04:48.218076Z",
     "iopub.status.idle": "2025-04-24T15:04:58.135632Z",
     "shell.execute_reply": "2025-04-24T15:04:58.134685Z",
     "shell.execute_reply.started": "2025-04-24T15:04:48.218334Z"
    },
    "trusted": true
   },
   "outputs": [],
   "source": [
    "ordinal_encoder = OrdinalEncoder()\n",
    "reviews_cat_encoded = ordinal_encoder.fit_transform(reviews)\n",
    "reviews_cat_encoded\n",
    "\n",
    "ordinal_encoder = OrdinalEncoder()\n",
    "reviews_test_cat_encoded = ordinal_encoder.fit_transform(reviews_test)\n",
    "reviews_test_cat_encoded\n",
    "\n",
    "reviews_validation_encoded = ordinal_encoder.fit_transform(test_df)\n",
    "reviews_validation_encoded "
   ]
  },
  {
   "cell_type": "raw",
   "metadata": {},
   "source": [
    "**Finding Best Parameters for chosen Algorithms**"
   ]
  },
  {
   "cell_type": "code",
   "execution_count": null,
   "metadata": {
    "execution": {
     "iopub.execute_input": "2025-04-24T15:05:12.687799Z",
     "iopub.status.busy": "2025-04-24T15:05:12.687451Z",
     "iopub.status.idle": "2025-04-24T15:05:12.693601Z",
     "shell.execute_reply": "2025-04-24T15:05:12.692671Z",
     "shell.execute_reply.started": "2025-04-24T15:05:12.687778Z"
    },
    "trusted": true
   },
   "outputs": [],
   "source": [
    "# define param-grids\n",
    "param_grids = {\n",
    "    'KNN': {\n",
    "        'n_neighbors': [3,5,7,9],\n",
    "        'weights': ['uniform','distance'],\n",
    "        'p': [1,2]  # Manhattan vs Euclidean\n",
    "    },\n",
    "    'DecisionTree': {\n",
    "        'max_depth': [None, 5,10,20],\n",
    "        'min_samples_split': [2,5,10],\n",
    "        'criterion': ['gini','entropy']\n",
    "    },\n",
    "    'MLP': {\n",
    "        'hidden_layer_sizes': [(50,),(100,),(50,50)],\n",
    "        'activation': ['relu','tanh','logistic'],\n",
    "        'alpha': [1e-4, 1e-3, 1e-2]\n",
    "    }\n",
    "}"
   ]
  },
  {
   "cell_type": "code",
   "execution_count": null,
   "metadata": {
    "execution": {
     "iopub.execute_input": "2025-04-24T11:46:19.594650Z",
     "iopub.status.busy": "2025-04-24T11:46:19.594289Z",
     "iopub.status.idle": "2025-04-24T11:46:19.601308Z",
     "shell.execute_reply": "2025-04-24T11:46:19.600409Z",
     "shell.execute_reply.started": "2025-04-24T11:46:19.594626Z"
    },
    "trusted": true
   },
   "outputs": [],
   "source": [
    "## wrap each in GridSearchCV\n",
    "searches = {}\n",
    "\n",
    "searches['KNN'] = GridSearchCV(\n",
    "    KNeighborsClassifier(),\n",
    "    param_grids['KNN'],\n",
    "    cv=5,\n",
    "    scoring='accuracy',\n",
    "    n_jobs=-1,\n",
    "    verbose=1\n",
    ")\n",
    "\n",
    "searches['DecisionTree'] = GridSearchCV(\n",
    "    DecisionTreeClassifier(random_state=42),\n",
    "    param_grids['DecisionTree'],\n",
    "    cv=5,\n",
    "    scoring='accuracy',\n",
    "    n_jobs=-1,\n",
    "    verbose=1\n",
    ")\n",
    "\n",
    "searches['MLP'] = GridSearchCV(\n",
    "    MLPClassifier(max_iter=500, random_state=42),\n",
    "    param_grids['MLP'],\n",
    "    cv=5,\n",
    "    scoring='accuracy',\n",
    "    n_jobs=-1,\n",
    "    verbose=1\n",
    ")\n"
   ]
  },
  {
   "cell_type": "markdown",
   "metadata": {},
   "source": [
    "**AMBITIOUS, FIT EACH**"
   ]
  },
  {
   "cell_type": "code",
   "execution_count": null,
   "metadata": {
    "execution": {
     "iopub.execute_input": "2025-04-24T11:49:59.133796Z",
     "iopub.status.busy": "2025-04-24T11:49:59.132670Z",
     "iopub.status.idle": "2025-04-24T12:19:57.981320Z",
     "shell.execute_reply": "2025-04-24T12:19:57.980086Z",
     "shell.execute_reply.started": "2025-04-24T11:49:59.133764Z"
    },
    "trusted": true
   },
   "outputs": [],
   "source": [
    "# 3) fit each\n",
    "best_estimators = {}\n",
    "for name, gs in searches.items():\n",
    "    print(f\"\\n➡️ Running grid-search for {name} …\")\n",
    "    gs.fit(reviews_cat_encoded, reviews_labels)\n",
    "    best_estimators[name] = gs.best_estimator_\n",
    "    print(f\"▶️ Best {name} params: {gs.best_params_}\")\n",
    "    print(f\"▶️ CV accuracy: {gs.best_score_:.3f}\")"
   ]
  },
  {
   "cell_type": "markdown",
   "metadata": {},
   "source": []
  },
  {
   "cell_type": "code",
   "execution_count": null,
   "metadata": {
    "execution": {
     "iopub.execute_input": "2025-04-24T15:08:12.544916Z",
     "iopub.status.busy": "2025-04-24T15:08:12.544632Z",
     "iopub.status.idle": "2025-04-24T15:08:13.715846Z",
     "shell.execute_reply": "2025-04-24T15:08:13.715018Z",
     "shell.execute_reply.started": "2025-04-24T15:08:12.544899Z"
    },
    "trusted": true
   },
   "outputs": [],
   "source": [
    "# --- 1) KNN ---\n",
    "knn_best = KNeighborsClassifier(\n",
    "    n_neighbors=7,\n",
    "    p=1,\n",
    "    weights='distance'\n",
    ")\n",
    "\n",
    "knn_best.fit(reviews, reviews_labels)\n",
    "knn_pred = knn_best.predict(reviews_test)\n",
    "print(\"KNN Test Accuracy: {:.3f}\".format(accuracy_score(reviews_test_labels, knn_pred)))\n",
    "print(classification_report(reviews_test_labels, knn_pred, zero_division=0))\n"
   ]
  },
  {
   "cell_type": "code",
   "execution_count": null,
   "metadata": {
    "execution": {
     "iopub.execute_input": "2025-04-24T15:09:34.616443Z",
     "iopub.status.busy": "2025-04-24T15:09:34.616135Z",
     "iopub.status.idle": "2025-04-24T15:09:36.324894Z",
     "shell.execute_reply": "2025-04-24T15:09:36.324042Z",
     "shell.execute_reply.started": "2025-04-24T15:09:34.616422Z"
    },
    "trusted": true
   },
   "outputs": [],
   "source": [
    "# --- 2) Decision Tree ---\n",
    "dt_best = DecisionTreeClassifier(\n",
    "    criterion='gini',\n",
    "    max_depth=None,\n",
    "    min_samples_split=10,\n",
    "    random_state=42\n",
    ")\n",
    "dt_best.fit(reviews, reviews_labels)\n",
    "dt_pred = dt_best.predict(reviews_test)\n",
    "print(\"Decision Tree Test Accuracy: {:.3f}\".format(accuracy_score(reviews_test_labels, dt_pred)))\n",
    "print(classification_report(reviews_test_labels, dt_pred, zero_division=0))\n"
   ]
  },
  {
   "cell_type": "code",
   "execution_count": null,
   "metadata": {
    "execution": {
     "iopub.execute_input": "2025-04-24T15:14:42.537344Z",
     "iopub.status.busy": "2025-04-24T15:14:42.537053Z",
     "iopub.status.idle": "2025-04-24T15:15:16.464421Z",
     "shell.execute_reply": "2025-04-24T15:15:16.463607Z",
     "shell.execute_reply.started": "2025-04-24T15:14:42.537325Z"
    },
    "trusted": true
   },
   "outputs": [],
   "source": [
    "# --- 3) MLP ---\n",
    "mlp_best = MLPClassifier(\n",
    "    activation='logistic',\n",
    "    alpha=0.0001,\n",
    "    hidden_layer_sizes=(100,),\n",
    "    max_iter=1000,\n",
    "    random_state=42\n",
    ")\n",
    "mlp_best.fit(reviews, reviews_labels)\n",
    "mlp_pred = mlp_best.predict(reviews_test)\n",
    "print(\"MLP Test Accuracy: {:.3f}\".format(accuracy_score(reviews_test_labels, mlp_pred)))\n",
    "print(classification_report(reviews_test_labels, mlp_pred, zero_division=0))"
   ]
  },
  {
   "cell_type": "code",
   "execution_count": null,
   "metadata": {
    "execution": {
     "iopub.execute_input": "2025-04-24T15:45:44.424869Z",
     "iopub.status.busy": "2025-04-24T15:45:44.424379Z",
     "iopub.status.idle": "2025-04-24T15:45:44.600794Z",
     "shell.execute_reply": "2025-04-24T15:45:44.599453Z",
     "shell.execute_reply.started": "2025-04-24T15:45:44.424837Z"
    },
    "trusted": true
   },
   "outputs": [],
   "source": [
    "final_preds = mlp_best.predict(reviews_test)\n",
    "submission = pd.DataFrame({\n",
    "    'ID': reviews_test['ID'],\n",
    "    'class': final_preds\n",
    "})\n",
    "submission.to_csv('solution_file.csv', index=False)"
   ]
  },
  {
   "cell_type": "markdown",
   "metadata": {},
   "source": []
  }
 ],
 "metadata": {
  "kaggle": {
   "accelerator": "none",
   "dataSources": [
    {
     "datasetId": 7239534,
     "sourceId": 11544113,
     "sourceType": "datasetVersion"
    }
   ],
   "dockerImageVersionId": 31012,
   "isGpuEnabled": false,
   "isInternetEnabled": true,
   "language": "python",
   "sourceType": "notebook"
  },
  "kernelspec": {
   "display_name": "Python 3",
   "language": "python",
   "name": "python3"
  },
  "language_info": {
   "codemirror_mode": {
    "name": "ipython",
    "version": 3
   },
   "file_extension": ".py",
   "mimetype": "text/x-python",
   "name": "python",
   "nbconvert_exporter": "python",
   "pygments_lexer": "ipython3",
   "version": "3.13.2"
  }
 },
 "nbformat": 4,
 "nbformat_minor": 4
}
